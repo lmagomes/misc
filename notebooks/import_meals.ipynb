{
 "cells": [
  {
   "cell_type": "code",
   "execution_count": null,
   "metadata": {
    "collapsed": true
   },
   "outputs": [],
   "source": [
    "import PyPDF2\n",
    "import re\n",
    "\n",
    "import glob\n",
    "\n",
    "from datetime import datetime\n",
    "\n",
    "import pandas as pd"
   ]
  },
  {
   "cell_type": "code",
   "execution_count": null,
   "metadata": {
    "collapsed": true
   },
   "outputs": [],
   "source": [
    "# some regexes\n",
    "datere = re.compile('[0-9]{4}\\/[0-9]{2}\\/[0-9]{2}\\s+A\\s+[0-9]{4}\\/[0-9]{2}\\/[0-9]{2}')\n",
    "valre = re.compile('([1-9]{1,2}\\.[0-9]{2}\\s+[1-9]{1,2}\\.[0-9]{2}\\s+[0-9A-Z\\s\\:\\.]{1,}[0-9]{1,2}\\,[0-9]{2})')"
   ]
  },
  {
   "cell_type": "code",
   "execution_count": null,
   "metadata": {
    "collapsed": false
   },
   "outputs": [],
   "source": [
    "values = []\n",
    "for pdf_file in glob.glob('meals/*'):\n",
    "    print('processing ' + pdf_file)\n",
    "    \n",
    "    # open and decrypt file\n",
    "    pdfFileObj = open(pdf_file, 'rb')\n",
    "    pdfReader = PyPDF2.PdfFileReader(pdfFileObj)\n",
    "    pdfReader.decrypt('')\n",
    "    \n",
    "    # some needed variables\n",
    "    start_date = None\n",
    "    end_date = None\n",
    "    pages = []\n",
    "    \n",
    "    # iterate through the pages\n",
    "    for page in range(pdfReader.numPages):\n",
    "        pageObj = pdfReader.getPage(page)\n",
    "        pages.append(pageObj.extractText())\n",
    "        \n",
    "    text = ' '.join(pages)\n",
    "    \n",
    "    # get the dates\n",
    "    m = datere.search(text)\n",
    "    fields = m.group().split()\n",
    "    start_date = datetime.strptime(fields[0], '%Y/%m/%d')\n",
    "    end_date = datetime.strptime(fields[2], '%Y/%m/%d')\n",
    "            \n",
    "    # get the values\n",
    "    for val in valre.split(text):\n",
    "        if val[0].isdigit():\n",
    "            fields = [v for v in val.split('  ') if v]\n",
    "            \n",
    "            mdate = fields[0].split('.')\n",
    "            vdate = fields[1].split('.')\n",
    "            \n",
    "            value = fields[4].replace(',', '.')\n",
    "            if fields[3] == 'COMPRAS':\n",
    "                value = 0 - float(value)\n",
    "            else:\n",
    "                value = float(value)\n",
    "            \n",
    "            \n",
    "            values.append({\n",
    "                    'movement_date': datetime(start_date.year, int(mdate[0]), int(mdate[1])),\n",
    "                    'value_date': datetime(start_date.year, int(vdate[0]), int(vdate[1])),\n",
    "                    'description': fields[2],\n",
    "                    'ammount': value,\n",
    "                    'balance': 0,\n",
    "                    'available_balance': 0,\n",
    "                    'movement_type': 'Débito' if fields[3] == 'COMPRAS' else 'Crédito',\n",
    "                    'account_id': 30\n",
    "                })\n",
    "        "
   ]
  },
  {
   "cell_type": "code",
   "execution_count": null,
   "metadata": {
    "collapsed": false
   },
   "outputs": [],
   "source": [
    "df.sort_values(by='movement_date', inplace=True)\n",
    "df.reset_index(inplace=True)"
   ]
  },
  {
   "cell_type": "code",
   "execution_count": null,
   "metadata": {
    "collapsed": true
   },
   "outputs": [],
   "source": [
    "balance = 0\n",
    "bal_series = []\n",
    "for index, row in df.iterrows():\n",
    "    balance += row.ammount\n",
    "    bal_series.append(balance)\n",
    "\n",
    "\n",
    "#df.balance = df.shift(1).balance + df.ammount\n",
    "df.balance = pd.Series(bal_series)\n",
    "df.available_balance = df.balance"
   ]
  },
  {
   "cell_type": "code",
   "execution_count": null,
   "metadata": {
    "collapsed": false,
    "scrolled": false
   },
   "outputs": [],
   "source": [
    "df.drop('index', 1).to_csv('meals.csv', index=False)"
   ]
  },
  {
   "cell_type": "code",
   "execution_count": null,
   "metadata": {
    "collapsed": false,
    "scrolled": false
   },
   "outputs": [],
   "source": [
    "!cat meals.csv"
   ]
  },
  {
   "cell_type": "code",
   "execution_count": null,
   "metadata": {
    "collapsed": true
   },
   "outputs": [],
   "source": []
  }
 ],
 "metadata": {
  "kernelspec": {
   "display_name": "Python 3",
   "language": "python",
   "name": "python3"
  },
  "language_info": {
   "codemirror_mode": {
    "name": "ipython",
    "version": 3
   },
   "file_extension": ".py",
   "mimetype": "text/x-python",
   "name": "python",
   "nbconvert_exporter": "python",
   "pygments_lexer": "ipython3",
   "version": "3.5.1"
  }
 },
 "nbformat": 4,
 "nbformat_minor": 0
}
