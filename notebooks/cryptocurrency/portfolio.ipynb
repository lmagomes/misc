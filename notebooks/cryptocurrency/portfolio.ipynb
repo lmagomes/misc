{
 "cells": [
  {
   "cell_type": "code",
   "execution_count": null,
   "metadata": {},
   "outputs": [],
   "source": [
    "import os\n",
    "import configparser\n",
    "\n",
    "from sqlalchemy import create_engine\n",
    "\n",
    "from tabulate import tabulate\n",
    "\n",
    "import pandas as pd\n",
    "import matplotlib.pyplot as plt"
   ]
  },
  {
   "cell_type": "code",
   "execution_count": null,
   "metadata": {},
   "outputs": [],
   "source": [
    "plt.style.use('seaborn-poster')"
   ]
  },
  {
   "cell_type": "code",
   "execution_count": null,
   "metadata": {},
   "outputs": [],
   "source": [
    "config = configparser.ConfigParser()\n",
    "config.read(os.path.join(os.path.expanduser('~'), '.config', 'me.ini'))\n",
    "\n",
    "dburl = config['db']['url']\n",
    "engine = create_engine(dburl)"
   ]
  },
  {
   "cell_type": "code",
   "execution_count": null,
   "metadata": {},
   "outputs": [],
   "source": [
    "# read database data\n",
    "\n",
    "df = pd.read_sql('''\n",
    "    select\n",
    "        cur.*,\n",
    "        mkt.price_btc,\n",
    "        mkt.price_eur,\n",
    "        mkt.percent_change_1h as change\n",
    "    from cryptomarket mkt right join cryptocurrencies cur on mkt.read_date = cur.read_date and mkt.symbol = cur.coin\n",
    "''', engine)\n",
    "\n",
    "df.loc[df.coin =='EUR', 'price_eur'] = 1\n",
    "df.loc[df.coin =='EUR', 'price_btc'] = 1 / df[df.coin == 'BTC'].price_eur.max()\n",
    "df['btc_value'] = df.balance * df.price_btc\n",
    "df['eur_value'] = df.balance * df.price_eur"
   ]
  },
  {
   "cell_type": "code",
   "execution_count": null,
   "metadata": {},
   "outputs": [],
   "source": [
    "# Compare price in Euro and in BTC\n",
    "\n",
    "fig = plt.figure()\n",
    "ax1 = fig.add_subplot(111)\n",
    "ax2 = ax1.twinx()\n",
    "\n",
    "df.pivot_table(index='read_date', values=['btc_value'], aggfunc=sum).plot(ax=ax1, color='r')\n",
    "df.pivot_table(index='read_date', values=['eur_value'], aggfunc=sum).plot(ax=ax2)"
   ]
  },
  {
   "cell_type": "code",
   "execution_count": null,
   "metadata": {},
   "outputs": [],
   "source": [
    "# Compare price in Euro and in BTC for Litecoin and Ethereum\n",
    "\n",
    "fig = plt.figure()\n",
    "ax1 = fig.add_subplot(111)\n",
    "ax2 = ax1.twinx()\n",
    "\n",
    "df[df.coin.isin(['LTC', 'ETH'])].pivot_table(index='read_date', columns='coin', values=['btc_value'], aggfunc=sum).plot(ax=ax1, color='r')\n",
    "df[df.coin.isin(['LTC', 'ETH'])].pivot_table(index='read_date', columns='coin', values=['eur_value'], aggfunc=sum).plot(ax=ax2, color='b')"
   ]
  },
  {
   "cell_type": "code",
   "execution_count": null,
   "metadata": {},
   "outputs": [],
   "source": [
    "# BTC value for all other coins.\n",
    "df[~df.coin.isin(['BTC', 'LTC', 'ETH'])].pivot_table(index='read_date', columns='coin', values=['btc_value'], aggfunc=sum).plot()"
   ]
  },
  {
   "cell_type": "code",
   "execution_count": null,
   "metadata": {},
   "outputs": [],
   "source": [
    "# Euro value for all other coins.\n",
    "df[~df.coin.isin(['BTC', 'LTC', 'ETH'])].pivot_table(index='read_date', columns='coin', values=['eur_value'], aggfunc=sum).plot()"
   ]
  },
  {
   "cell_type": "code",
   "execution_count": null,
   "metadata": {},
   "outputs": [],
   "source": [
    "# current values, as of last reading\n",
    "portfolio = df[df.read_date == df.read_date.max()]\n",
    "portfolio.sort_values(by='source')"
   ]
  },
  {
   "cell_type": "code",
   "execution_count": null,
   "metadata": {},
   "outputs": [],
   "source": [
    "# Table with Euro and BTC values\n",
    "portfolio.groupby(['name'])['btc_value', 'eur_value', 'change'].sum().reset_index().sort_values(by='name', ascending=True)"
   ]
  },
  {
   "cell_type": "code",
   "execution_count": null,
   "metadata": {},
   "outputs": [],
   "source": [
    "# Total values for the portfolio\n",
    "\n",
    "btc = portfolio.btc_value.sum()\n",
    "eur = portfolio.eur_value.sum()\n",
    "btc_eur = df[(df.read_date == df.read_date.max()) & (df.name == 'Bitcoin')].price_eur.max()\n",
    "\n",
    "print(f'Total is {eur:.2f} € or {btc} btc. This would be {btc_eur * btc:.2f} € if it was all BTC.')"
   ]
  },
  {
   "cell_type": "code",
   "execution_count": null,
   "metadata": {},
   "outputs": [],
   "source": [
    "# Euro percentage in each coin.\n",
    "portfolio.groupby('name').eur_value.sum().plot.pie(autopct='%.2f')"
   ]
  },
  {
   "cell_type": "code",
   "execution_count": null,
   "metadata": {},
   "outputs": [],
   "source": [
    "# Euro percentage in each exchange or wallet\n",
    "portfolio.groupby('source').eur_value.sum().plot.pie(autopct='%.2f')"
   ]
  }
 ],
 "metadata": {
  "kernelspec": {
   "display_name": "Python 3",
   "language": "python",
   "name": "python3"
  },
  "language_info": {
   "codemirror_mode": {
    "name": "ipython",
    "version": 3
   },
   "file_extension": ".py",
   "mimetype": "text/x-python",
   "name": "python",
   "nbconvert_exporter": "python",
   "pygments_lexer": "ipython3",
   "version": "3.6.2"
  }
 },
 "nbformat": 4,
 "nbformat_minor": 2
}
