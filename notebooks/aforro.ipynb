{
 "cells": [
  {
   "cell_type": "markdown",
   "metadata": {},
   "source": [
    "# Login and access data from AforroNet\n",
    "\n",
    "This uses requests and lxml to access data from https://aforronet.igcp.pt/"
   ]
  },
  {
   "cell_type": "markdown",
   "metadata": {},
   "source": [
    "The server does not send an intermediate certificate. I went to https://cryptoreport.websecurity.symantec.com/checker/#certChecker, pasted the site and downloaded the certificate.\n",
    "\n",
    "Download the certificate and add it to lib/python3.4/site-packages/requests/cacert.pem or lib/python3.4/site-packages/certifi/cacert.pem (I just pasted it in there)."
   ]
  },
  {
   "cell_type": "markdown",
   "metadata": {},
   "source": [
    "## Required imports"
   ]
  },
  {
   "cell_type": "code",
   "execution_count": null,
   "metadata": {
    "collapsed": false
   },
   "outputs": [],
   "source": [
    "import os\n",
    "import requests\n",
    "from lxml import html\n",
    "\n",
    "import configparser\n",
    "from datetime import datetime, date\n",
    "import re\n",
    "import pandas as pd\n",
    "from bs4 import BeautifulSoup\n",
    "\n",
    "from sqlalchemy import create_engine"
   ]
  },
  {
   "cell_type": "markdown",
   "metadata": {},
   "source": [
    "### Variables with some needed values. Replace them as needed."
   ]
  },
  {
   "cell_type": "code",
   "execution_count": null,
   "metadata": {
    "collapsed": false
   },
   "outputs": [],
   "source": [
    "config = configparser.ConfigParser()\n",
    "config.read(os.path.join(os.path.expanduser('~'), '.config', 'me.ini'))\n",
    "\n",
    "\n",
    "username = config['aforro']['username']\n",
    "password = config['aforro']['password']\n",
    "nif = config['aforro']['nif']\n",
    "\n",
    "dburl = config['db']['url']\n",
    "engine = create_engine(dburl)\n",
    "\n",
    "# this is the position the mouse is in the \"Entrar\" button at the time the form is submited.\n",
    "login_x = 0\n",
    "login_y = 0"
   ]
  },
  {
   "cell_type": "code",
   "execution_count": null,
   "metadata": {
    "collapsed": false
   },
   "outputs": [],
   "source": [
    "headers = {\n",
    "    'User-Agent': 'Mozilla/5.0',\n",
    "    'Origin': 'https://aforronet.igcp.pt',\n",
    "    'Referer': 'https://aforronet.igcp.pt/Iimf.AforroNet.UI/Services/Login/Login.aspx'\n",
    "}\n",
    "\n",
    "\n",
    "session = requests.Session()\n",
    "\n",
    "r = session.get('https://aforronet.igcp.pt/', headers=headers)\n",
    "tree = html.fromstring(r.text)\n",
    "\n",
    "# nif elements requested for login.\n",
    "req_nif = tree.xpath('//span[@id=\"LblInforma\"]//strong')\n",
    "first_pos = int(req_nif[0].text[0])\n",
    "sec_pos = int(req_nif[1].text[0])\n",
    "\n",
    "view_state = tree.xpath('//input[@name=\"__VIEWSTATE\"]')[0].value\n",
    "\n",
    "# cookies\n",
    "cookies = requests.utils.cookiejar_from_dict(requests.utils.dict_from_cookiejar(session.cookies))\n",
    "\n",
    "payload = {\n",
    "    '__EVENTTARGET': \"\",\n",
    "    '__EVENTARGUMENT': \"\",\n",
    "    '__VIEWSTATE': view_state,\n",
    "    'txtIdentificacao': username,\n",
    "    'txtSenha': password,\n",
    "    'dlPrim_Pos': int(nif[first_pos - 1]),\n",
    "    'dlSeg_Pos': int(nif[sec_pos - 1]),\n",
    "    'btLoginAfr.x': login_x,\n",
    "    'btLoginAfr.y': login_y\n",
    "}"
   ]
  },
  {
   "cell_type": "code",
   "execution_count": null,
   "metadata": {
    "collapsed": false
   },
   "outputs": [],
   "source": [
    "r = session.post('https://aforronet.igcp.pt/Iimf.AforroNet.UI/Services/Login/Login.aspx', data=payload, cookies=cookies, headers=headers)\n",
    "\n",
    "tree = html.fromstring(r.text)\n",
    "view_state = tree.xpath('//input[@name=\"__VIEWSTATE\"]')[0].value\n",
    "\n",
    "cookies = requests.utils.cookiejar_from_dict(requests.utils.dict_from_cookiejar(session.cookies))\n",
    "\n",
    "payload = {\n",
    "    '__EVENTTARGET': \"lnkconsultaSaldos\",\n",
    "    '__EVENTARGUMENT': \"\",\n",
    "    '__VIEWSTATE': view_state\n",
    "}"
   ]
  },
  {
   "cell_type": "code",
   "execution_count": null,
   "metadata": {
    "collapsed": true
   },
   "outputs": [],
   "source": [
    "r = session.post('https://aforronet.igcp.pt/Iimf.AforroNet.UI/services/login/Menu.aspx', data=payload, cookies=cookies, headers=headers)\n",
    "\n",
    "tables = BeautifulSoup(r.text, \"lxml\").find_all('table')\n",
    "table = list(tables[12].stripped_strings)\n",
    "# set . formating for numbers\n",
    "table = \"|\".join(table).replace('.', '').replace(',', '.').replace(' - 1', '-1')\n",
    "# remove authorized user info\n",
    "table = \"|\".join(table.split('|', 7)[0:8:7])\n",
    "# split into the different series\n",
    "table = re.split('\\|SubTotal\\:\\|[0-9.]{0,}\\|?', table)[:-1]\n",
    "\n",
    "value_date = date.today().replace(day=1)\n",
    "\n",
    "final_values = []\n",
    "for row in table:\n",
    "    series, values = row.split('|', 1)\n",
    "    final_values += [[series, value_date] + list(v) for v in zip(*[iter(values.split('|'))]*5)]"
   ]
  },
  {
   "cell_type": "code",
   "execution_count": null,
   "metadata": {
    "collapsed": false,
    "scrolled": true
   },
   "outputs": [],
   "source": [
    "aforro = pd.read_sql('aforro', engine)\n",
    "\n",
    "if value_date not in aforro.value_date.dt.date.unique():\n",
    "    new_values = pd.DataFrame(final_values, columns=aforro.columns)\n",
    "    new_values.unit_value = new_values.unit_value.astype(float)\n",
    "    new_values.value_date = pd.to_datetime(new_values.value_date)\n",
    "    new_values.subscription_date = pd.to_datetime(new_values.subscription_date, format=\"%d-%m-%Y\")\n",
    "    new_values.to_sql('aforro', engine, if_exists='append', index=False)\n",
    "else:\n",
    "    print('Values already exist. skipping.')"
   ]
  },
  {
   "cell_type": "code",
   "execution_count": null,
   "metadata": {
    "collapsed": false
   },
   "outputs": [],
   "source": [
    "aforro = pd.read_sql('aforro', engine)"
   ]
  },
  {
   "cell_type": "code",
   "execution_count": null,
   "metadata": {
    "collapsed": false
   },
   "outputs": [],
   "source": [
    "aforro.to_sql('aforro', engine, if_exists='replace', index=False)"
   ]
  }
 ],
 "metadata": {
  "kernelspec": {
   "display_name": "Python 3",
   "language": "python",
   "name": "python3"
  },
  "language_info": {
   "codemirror_mode": {
    "name": "ipython",
    "version": 3
   },
   "file_extension": ".py",
   "mimetype": "text/x-python",
   "name": "python",
   "nbconvert_exporter": "python",
   "pygments_lexer": "ipython3",
   "version": "3.5.1"
  }
 },
 "nbformat": 4,
 "nbformat_minor": 0
}
