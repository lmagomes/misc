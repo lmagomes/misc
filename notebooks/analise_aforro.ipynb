{
 "cells": [
  {
   "cell_type": "code",
   "execution_count": null,
   "metadata": {
    "collapsed": false
   },
   "outputs": [],
   "source": [
    "import pandas as pd\n",
    "import seaborn as sns\n",
    "from datetime import date\n",
    "from sqlalchemy import create_engine\n",
    "\n",
    "import os\n",
    "import configparser\n",
    "\n",
    "%matplotlib inline\n",
    "sns.set_context(\"poster\")"
   ]
  },
  {
   "cell_type": "code",
   "execution_count": null,
   "metadata": {
    "collapsed": false
   },
   "outputs": [],
   "source": [
    "\n",
    "config = configparser.ConfigParser()\n",
    "config.read(os.path.join(os.path.expanduser(\"~\"), '.config', 'me.ini'))\n",
    "\n",
    "engine = create_engine(config['db']['url'])\n",
    "aforro = pd.read_sql('aforro', engine)\n",
    "monthly = pd.DataFrame(aforro.groupby('value_date')['value'].sum())\n",
    "\n",
    "\n",
    "# get invested values\n",
    "movements = pd.read_sql('account_movements', engine)\n",
    "subs = movements[movements.description.str.contains('Subscrição C[AT]')]\n",
    "\n",
    "invested = {\n",
    "    'CAF Série B': subs[subs.account_id.isin([20, 21, 22, 23])].ammount.sum(),\n",
    "    'CAF Série C': subs[subs.account_id.isin([24, 25])].ammount.sum(),\n",
    "    'CT CTPM': subs[subs.account_id.isin([26, 27, 28])].ammount.sum(),\n",
    "}\n"
   ]
  },
  {
   "cell_type": "code",
   "execution_count": null,
   "metadata": {
    "collapsed": false
   },
   "outputs": [],
   "source": [
    "monthly = aforro.pivot_table(index='value_date', columns='product', values='value', aggfunc=sum)\n",
    "\n",
    "# winnings per product\n",
    "for prod in invested.keys():\n",
    "    monthly['Winnings ' + prod] = monthly[prod] - invested[prod]\n",
    "monthly.fillna(0, inplace=True)\n",
    "\n",
    "# total winnings\n",
    "monthly['total winnings'] = monthly['Winnings CAF Série B'] + monthly['Winnings CAF Série C'] + monthly['Winnings CT CTPM']\n",
    "\n",
    "# percentage. First get the total winnings, and then calculate percentages.\n",
    "for prod in invested.keys():\n",
    "    monthly['Perc Winnings ' + prod] = monthly['Winnings ' + prod] / monthly['total winnings']"
   ]
  },
  {
   "cell_type": "code",
   "execution_count": null,
   "metadata": {
    "collapsed": false
   },
   "outputs": [],
   "source": [
    "monthly"
   ]
  },
  {
   "cell_type": "code",
   "execution_count": null,
   "metadata": {
    "collapsed": false,
    "scrolled": false
   },
   "outputs": [],
   "source": [
    "monthly['total winnings'].plot(kind='bar')"
   ]
  },
  {
   "cell_type": "code",
   "execution_count": null,
   "metadata": {
    "collapsed": false
   },
   "outputs": [],
   "source": [
    "monthly[['Winnings CAF Série B', 'Winnings CAF Série C', 'Winnings CT CTPM']].plot(kind='bar', stacked=True)"
   ]
  },
  {
   "cell_type": "code",
   "execution_count": null,
   "metadata": {
    "collapsed": false,
    "scrolled": false
   },
   "outputs": [],
   "source": [
    "monthly[['Winnings CAF Série B', 'Winnings CAF Série C', 'Winnings CT CTPM']].plot(kind='area', stacked=True)"
   ]
  },
  {
   "cell_type": "code",
   "execution_count": null,
   "metadata": {
    "collapsed": false
   },
   "outputs": [],
   "source": [
    "monthly[monthly.index > '2014-09-01'][['Perc Winnings CAF Série B', 'Perc Winnings CAF Série C', 'Perc Winnings CT CTPM']].plot(kind='area', stacked=True)"
   ]
  }
 ],
 "metadata": {
  "kernelspec": {
   "display_name": "Python 3",
   "language": "python",
   "name": "python3"
  },
  "language_info": {
   "codemirror_mode": {
    "name": "ipython",
    "version": 3
   },
   "file_extension": ".py",
   "mimetype": "text/x-python",
   "name": "python",
   "nbconvert_exporter": "python",
   "pygments_lexer": "ipython3",
   "version": "3.5.1"
  }
 },
 "nbformat": 4,
 "nbformat_minor": 0
}
