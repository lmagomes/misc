{
 "cells": [
  {
   "cell_type": "code",
   "execution_count": null,
   "metadata": {
    "collapsed": true
   },
   "outputs": [],
   "source": [
    "import pandas as pd\n",
    "\n",
    "import configparser\n",
    "import os\n",
    "from sqlalchemy import create_engine\n",
    "\n",
    "import requests\n",
    "from lxml import html\n",
    "\n",
    "from datetime import datetime\n",
    "import re\n",
    "from bs4 import BeautifulSoup\n",
    "\n",
    "config = configparser.ConfigParser()\n",
    "config.read(os.path.join(os.path.expanduser('~'), '.config', 'me.ini'))\n",
    "\n",
    "engine = create_engine(config['db']['url'])\n",
    "pd.options.display.max_rows = 1000\n",
    "\n",
    "import json"
   ]
  },
  {
   "cell_type": "code",
   "execution_count": null,
   "metadata": {
    "collapsed": false
   },
   "outputs": [],
   "source": [
    "headers = {\n",
    "    'User-Agent': 'Mozilla/5.0',\n",
    "    'Host': 'www.acesso.gov.pt'\n",
    "\n",
    "}\n",
    "\n",
    "session = requests.Session()\n",
    "\n",
    "# Start page\n",
    "r = session.get('https://www.acesso.gov.pt/jsp/loginRedirectForm.jsp?path=painelAdquirente.action&partID=EFPF', headers=headers)\n",
    "cookies = requests.utils.cookiejar_from_dict(requests.utils.dict_from_cookiejar(session.cookies))\n",
    "\n",
    "# Login\n",
    "payload = {\n",
    "    'username': config['efatura']['username'],\n",
    "    'password': config['efatura']['password'],\n",
    "    'partID': 'EFPF'\n",
    "}\n",
    "r = session.post('https://www.acesso.gov.pt/jsp/submissaoFormularioLogin', data=payload, cookies=cookies, headers=headers)\n",
    "\n",
    "# get form for final redirect\n",
    "payload = {}\n",
    "for inp in BeautifulSoup(r.text, \"lxml\").find_all('form')[0].find_all('input'):\n",
    "    if 'name' in inp.attrs:\n",
    "        payload[inp['name']] = inp['value']\n",
    "\n",
    "# Final redirect\n",
    "headers = {\n",
    "    'User-Agent': 'Mozilla/5.0',\n",
    "    'Host': 'faturas.portaldasfinancas.gov.pt',\n",
    "    'Origin': 'https://www.acesso.gov.pt',\n",
    "    'Referer': 'https://www.acesso.gov.pt/jsp/submissaoFormularioLogin'\n",
    "\n",
    "}\n",
    "cookies = requests.utils.cookiejar_from_dict(requests.utils.dict_from_cookiejar(session.cookies))\n",
    "r = session.post('https://faturas.portaldasfinancas.gov.pt/painelAdquirente.action', data=payload, cookies=cookies, headers=headers)\n",
    "\n",
    "# Get the data\n",
    "headers = {\n",
    "    'User-Agent': 'Mozilla/5.0',\n",
    "    'Host': 'faturas.portaldasfinancas.gov.pt'\n",
    "}\n",
    "\n",
    "cookies = requests.utils.cookiejar_from_dict(requests.utils.dict_from_cookiejar(session.cookies))\n",
    "json_url = 'https://faturas.portaldasfinancas.gov.pt/json/obterDocumentosAdquirente.action?dataInicioFilter=2013-01-01&dataFimFilter=2016-01-01&ambitoAquisicaoFilter=TODOS'\n",
    "values = session.get(json_url, cookies=cookies, headers=headers)"
   ]
  },
  {
   "cell_type": "code",
   "execution_count": null,
   "metadata": {
    "collapsed": false
   },
   "outputs": [],
   "source": [
    "intval = []\n",
    "for dt in pd.date_range('2013-01-01', periods=4, freq='AS'):\n",
    "    end_date = datetime(dt.year + 1, dt.month, dt.day)\n",
    "    print('{} to {}'.format(dt.strftime('%Y-%m-%d'), end_date.strftime('%Y-%m-%d')))\n",
    "    \n",
    "    json_url = 'https://faturas.portaldasfinancas.gov.pt/json/obterDocumentosAdquirente.action?dataInicioFilter={:%Y-%m-%d}&dataFimFilter={:%Y-%m-%d}&ambitoAquisicaoFilter=TODOS'\n",
    "    jsval = session.get(json_url.format(dt, end_date), cookies=cookies, headers=headers).json()\n",
    "    intval.append(pd.DataFrame(jsval['linhas']))"
   ]
  },
  {
   "cell_type": "code",
   "execution_count": null,
   "metadata": {
    "collapsed": false
   },
   "outputs": [],
   "source": [
    "values = pd.concat(intval)"
   ]
  },
  {
   "cell_type": "code",
   "execution_count": null,
   "metadata": {
    "collapsed": false
   },
   "outputs": [],
   "source": [
    "len(values)"
   ]
  },
  {
   "cell_type": "code",
   "execution_count": null,
   "metadata": {
    "collapsed": false
   },
   "outputs": [],
   "source": [
    "values.head()"
   ]
  },
  {
   "cell_type": "code",
   "execution_count": null,
   "metadata": {
    "collapsed": false
   },
   "outputs": [],
   "source": [
    "values.columns"
   ]
  },
  {
   "cell_type": "code",
   "execution_count": null,
   "metadata": {
    "collapsed": false
   },
   "outputs": [],
   "source": [
    "values.to_sql('efatura', engine, if_exists='replace', index=False)"
   ]
  },
  {
   "cell_type": "code",
   "execution_count": null,
   "metadata": {
    "collapsed": true
   },
   "outputs": [],
   "source": [
    "vals = values[['dataEmissaoDocumento', 'nomeEmitente', 'valorTotal']]"
   ]
  },
  {
   "cell_type": "code",
   "execution_count": null,
   "metadata": {
    "collapsed": false,
    "scrolled": true
   },
   "outputs": [],
   "source": [
    "vals['valor'] = vals.valorTotal / 100"
   ]
  },
  {
   "cell_type": "code",
   "execution_count": null,
   "metadata": {
    "collapsed": false,
    "scrolled": false
   },
   "outputs": [],
   "source": [
    "vals.groupby('nomeEmitente').valor.sum().sort_values()"
   ]
  },
  {
   "cell_type": "code",
   "execution_count": null,
   "metadata": {
    "collapsed": true
   },
   "outputs": [],
   "source": []
  }
 ],
 "metadata": {
  "kernelspec": {
   "display_name": "Python 3",
   "language": "python",
   "name": "python3"
  },
  "language_info": {
   "codemirror_mode": {
    "name": "ipython",
    "version": 3
   },
   "file_extension": ".py",
   "mimetype": "text/x-python",
   "name": "python",
   "nbconvert_exporter": "python",
   "pygments_lexer": "ipython3",
   "version": "3.5.1"
  }
 },
 "nbformat": 4,
 "nbformat_minor": 0
}
