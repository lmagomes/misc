{
 "cells": [
  {
   "cell_type": "code",
   "execution_count": null,
   "metadata": {
    "collapsed": false
   },
   "outputs": [],
   "source": [
    "import pandas as pd\n",
    "\n",
    "import configparser\n",
    "import os\n",
    "import glob\n",
    "from bs4 import BeautifulSoup\n",
    "from sqlalchemy import create_engine\n",
    "\n",
    "import hashlib\n",
    "\n",
    "config = configparser.ConfigParser()\n",
    "config.read(os.path.join(os.path.expanduser('~'), '.config', 'me.ini'))\n",
    "\n",
    "engine = create_engine(config['db']['url'])\n",
    "pd.options.display.max_rows = 1000"
   ]
  },
  {
   "cell_type": "markdown",
   "metadata": {},
   "source": [
    "# Accounts"
   ]
  },
  {
   "cell_type": "code",
   "execution_count": null,
   "metadata": {
    "collapsed": false
   },
   "outputs": [],
   "source": [
    "accounts = pd.read_csv('accounts.csv')\n",
    "accounts.to_sql('accounts', engine, if_exists='replace')"
   ]
  },
  {
   "cell_type": "markdown",
   "metadata": {},
   "source": [
    "# CGD"
   ]
  },
  {
   "cell_type": "code",
   "execution_count": null,
   "metadata": {
    "collapsed": false
   },
   "outputs": [],
   "source": [
    "with open('valuescgd.txt', encoding=\"iso-8859-1\") as cgd:\n",
    "    values = cgd.readlines()\n",
    "values = ''.join(values).split('------')"
   ]
  },
  {
   "cell_type": "code",
   "execution_count": null,
   "metadata": {
    "collapsed": true
   },
   "outputs": [],
   "source": [
    "positions = [\n",
    "    'Descrição',\n",
    "    \n",
    "    'Montante do juro',\n",
    "    'Montante do imposto',\n",
    "    'Montante da transferência',\n",
    "    'Montante original',\n",
    "    'Montante',\n",
    "    \n",
    "    'Data valor',\n",
    "    'Data do movimento',\n",
    "    'Tipo de movimento',\n",
    "    'Saldo contabilístico após movimento',\n",
    "    'Saldo disponível após movimento',\n",
    "    'Comentário cliente',\n",
    "    'Entidade',\n",
    "    'Número do cartão',\n",
    "    'N.º Identificação SIBS',\n",
    "    'Meio de pagamento utilizado',\n",
    "    'Data início de cálculo do juro',\n",
    "    'Data fim de cálculo do juro',\n",
    "    'Conta juros credores',\n",
    "    'Local',\n",
    "    'Operação efectuada em',\n",
    "    'Referência',\n",
    "    'Valor cativo após movimento',\n",
    "    'Conta destino',\n",
    "    'Nº de Transferência',\n",
    "    'Taxa de câmbio',\n",
    "    'Contravalor',\n",
    "    'Descritivo conta destino',\n",
    "    'Conta destino',\n",
    "    'Tipo serviço',\n",
    "    'Finalidade',\n",
    "    'Nome Ordenante',\n",
    "    'Banco Ordenante',\n",
    "    'Swift Ordenante',\n",
    "    'Número do cheque',\n",
    "    'Nome do destinatário',\n",
    "    'Swift do destinatário',\n",
    "    'Iban do destinatário',\n",
    "    'Motivo'\n",
    "]"
   ]
  },
  {
   "cell_type": "code",
   "execution_count": null,
   "metadata": {
    "collapsed": false,
    "scrolled": false
   },
   "outputs": [],
   "source": [
    "# check if there are any positions not in the list\n",
    "for val in values:\n",
    "    for line in val.splitlines():\n",
    "        found_pos = False\n",
    "        for pos in positions:\n",
    "            if pos in line:\n",
    "                found_pos = True\n",
    "                \n",
    "        if not found_pos and line:\n",
    "            print(line)"
   ]
  },
  {
   "cell_type": "code",
   "execution_count": null,
   "metadata": {
    "collapsed": false,
    "scrolled": false
   },
   "outputs": [],
   "source": [
    "# Create a list of values\n",
    "mov_id = 1\n",
    "newvalues = []\n",
    "for val in values:\n",
    "    mov_type = None\n",
    "    for line in val.splitlines():\n",
    "        for pos in positions:\n",
    "            # print(str(mov_id) + ' ' + pos + ' - ' + line)\n",
    "            if pos in line:\n",
    "                newvalues.append({\n",
    "                    'type': pos.strip(),\n",
    "                    'value': line.replace(pos, '').strip(),\n",
    "                    'movement_id': mov_id\n",
    "                })\n",
    "                break\n",
    "    mov_id += 1\n",
    "\n",
    "valdf = pd.DataFrame(newvalues)\n",
    "print('List has {} and data frame has {} ({} unique).'.format(len(values), len(valdf), len(valdf.movement_id.unique())))"
   ]
  },
  {
   "cell_type": "code",
   "execution_count": null,
   "metadata": {
    "collapsed": false
   },
   "outputs": [],
   "source": [
    "# check how many values each position has\n",
    "global_pos = []\n",
    "unique_movs = len(valdf.movement_id.unique())\n",
    "for pos in positions:\n",
    "    poslen = len(valdf[valdf['type'] == pos])\n",
    "    #print('position \"{}\" has {} values.'.format(pos, poslen))\n",
    "    \n",
    "    if poslen == unique_movs:\n",
    "        global_pos.append(pos)"
   ]
  },
  {
   "cell_type": "code",
   "execution_count": null,
   "metadata": {
    "collapsed": false
   },
   "outputs": [],
   "source": [
    "# create the main table\n",
    "cgdmovements = valdf[valdf['type'].isin(global_pos)].pivot(index='movement_id', columns='type', values='value')\n",
    "\n",
    "# better columns names\n",
    "cgdmovements.columns = [\n",
    "    'comment',\n",
    "    'movement_date',\n",
    "    'value_date',\n",
    "    'description',\n",
    "    'ammount',\n",
    "    'balance',\n",
    "    'available_balance',\n",
    "    'movement_type']\n",
    "\n",
    "# convert a few values\n",
    "cgdmovements.value_date = pd.to_datetime(cgdmovements.value_date, format=\"%d-%m-%Y\")\n",
    "\n",
    "# add a midnight hour to movements that do not have it\n",
    "cgdmovements.ix[cgdmovements.movement_date.str.contains('[0-9]{2}-[0-9]{2}-[0-9]{4}\\Z'), 'movement_date'] = \\\n",
    "    cgdmovements.ix[cgdmovements.movement_date.str.contains('[0-9]{2}-[0-9]{2}-[0-9]{4}\\Z'), 'movement_date'] + ' 00:00'\n",
    "cgdmovements.movement_date = pd.to_datetime(cgdmovements.movement_date, format=\"%d-%m-%Y %H:%M\")\n",
    "\n",
    "# convert currency\n",
    "cgdmovements.ix[cgdmovements.movement_type == 'Débito', 'ammount'] = \\\n",
    "    '-' + cgdmovements.ix[cgdmovements.movement_type == 'Débito', 'ammount']\n",
    "\n",
    "cgdmovements.ammount = cgdmovements.ammount.str.replace(' EUR', '')\n",
    "cgdmovements.ammount = cgdmovements.ammount.str.replace('.', '')\n",
    "cgdmovements.ammount = cgdmovements.ammount.str.replace(',', '.')\n",
    "cgdmovements.ammount = pd.to_numeric(cgdmovements.ammount)\n",
    "\n",
    "\n",
    "cgdmovements.balance = cgdmovements.balance.str.replace(' EUR', '')\n",
    "cgdmovements.balance = cgdmovements.balance.str.replace('.', '')\n",
    "cgdmovements.balance = cgdmovements.balance.str.replace(',', '.')\n",
    "cgdmovements.balance = pd.to_numeric(cgdmovements.balance)\n",
    "\n",
    "\n",
    "cgdmovements.available_balance = cgdmovements.available_balance.str.replace(' EUR', '')\n",
    "cgdmovements.available_balance = cgdmovements.available_balance.str.replace('.', '')\n",
    "cgdmovements.available_balance = cgdmovements.available_balance.str.replace(',', '.')\n",
    "cgdmovements.available_balance = pd.to_numeric(cgdmovements.available_balance)\n",
    "\n",
    "# remove columns not needed, and sort it.\n",
    "cgdmovements = cgdmovements[cgdmovements.columns[1:]]\n",
    "cgdmovements.sort_values(by='value_date', inplace=True)\n",
    "cgdmovements['account_id'] = 1\n",
    "cgdmovements['movement_id'] = cgdmovements.index\n",
    "\n",
    "\n",
    "#cgdmovements.to_sql('account_movements', engine, if_exists='append')\n",
    "#valdf.to_sql('account_details', engine, if_exists='append', index=False)"
   ]
  },
  {
   "cell_type": "markdown",
   "metadata": {
    "collapsed": false
   },
   "source": [
    "# Totta"
   ]
  },
  {
   "cell_type": "code",
   "execution_count": null,
   "metadata": {
    "collapsed": true
   },
   "outputs": [],
   "source": [
    "max_mov_id = cgdmovements.index.max() + 1\n",
    "\n",
    "tottamov = pd.read_csv('tottavalues.csv', sep='\\t')\n",
    "\n",
    "tottamov.columns = [\n",
    "    'movement_date',\n",
    "    'value_date',\n",
    "    'description',\n",
    "    'ammount',\n",
    "    'available_balance']\n",
    "\n",
    "tottamov.movement_date = pd.to_datetime(tottamov.movement_date, format=\"%d-%m-%Y\")\n",
    "tottamov.value_date = pd.to_datetime(tottamov.value_date, format=\"%d-%m-%Y\")\n",
    "\n",
    "tottamov.ammount = tottamov.ammount.str.replace(',', '.')\n",
    "tottamov.ammount = tottamov.ammount.str.replace(' ', '')\n",
    "tottamov.ammount = pd.to_numeric(tottamov.ammount)\n",
    "\n",
    "tottamov.available_balance = tottamov.available_balance.str.replace(',', '.')\n",
    "tottamov.available_balance = tottamov.available_balance.str.replace(' ', '')\n",
    "tottamov.available_balance = pd.to_numeric(tottamov.available_balance)\n",
    "\n",
    "tottamov.ix[tottamov.ammount < 0, 'movement_type'] = 'Débito'\n",
    "tottamov.ix[tottamov.ammount > 0, 'movement_type'] = 'Crédito'\n",
    "\n",
    "tottamov['movement_id'] = range(max_mov_id, max_mov_id + len(tottamov))\n",
    "tottamov['balance'] = tottamov.available_balance\n",
    "tottamov['account_id'] = 10\n",
    "\n",
    "#tottamov.to_sql('account_movements', engine, if_exists='append', index=False)"
   ]
  },
  {
   "cell_type": "markdown",
   "metadata": {},
   "source": [
    "# Interest from certificados"
   ]
  },
  {
   "cell_type": "code",
   "execution_count": null,
   "metadata": {
    "collapsed": false
   },
   "outputs": [],
   "source": [
    "max_mov_id = tottamov.index.max() + 1\n",
    "\n",
    "aforro = pd.read_sql('aforro', engine)\n",
    "\n",
    "values = []\n",
    "for account in aforro.subscription_number.unique():\n",
    "    new_df = aforro[aforro.subscription_number == account].copy()\n",
    "    new_df['interest'] = new_df.value - new_df.shift().value\n",
    "    values.append(new_df)\n",
    "    \n",
    "interest = pd.concat(values)\n",
    "interest = interest[(interest['interest'] > 0) & (interest['product'] != 'CT CTPM')]\n",
    "interest['abbreviation'] = interest.subscription_number.str.replace('-1', '')\n",
    "\n",
    "interest = pd.merge(interest, accounts[['account_id', 'abbreviation']], how='left', on='abbreviation')\n",
    "interest['movement_date'] = interest['value_date']\n",
    "interest['description'] = 'Juros ' + interest['subscription_number']\n",
    "interest['ammount'] = interest['interest']\n",
    "interest['balance'] = interest['value']\n",
    "interest['available_balance'] = interest['value']\n",
    "interest['movement_type'] = 'Crédito'\n",
    "\n",
    "interest = interest[['movement_date', 'value_date', 'description', 'ammount', 'balance', 'available_balance', 'movement_type', 'account_id']]\n",
    "\n",
    "interest['movement_id'] = range(max_mov_id, max_mov_id + len(interest))\n",
    "\n",
    "#interest.to_sql('account_movements', engine, if_exists='append', index=False)"
   ]
  },
  {
   "cell_type": "markdown",
   "metadata": {},
   "source": [
    "# Other movements"
   ]
  },
  {
   "cell_type": "code",
   "execution_count": null,
   "metadata": {
    "collapsed": true
   },
   "outputs": [],
   "source": [
    "max_mov_id = interest.index.max() + 1\n",
    "\n",
    "other = pd.read_csv('othermovements.csv')\n",
    "\n",
    "other['movement_id'] = range(max_mov_id, max_mov_id + len(other))\n",
    "#df.to_sql('account_movements', engine, if_exists='append', index=False)"
   ]
  },
  {
   "cell_type": "markdown",
   "metadata": {
    "collapsed": true
   },
   "source": [
    "# Meals"
   ]
  },
  {
   "cell_type": "code",
   "execution_count": null,
   "metadata": {
    "collapsed": false
   },
   "outputs": [],
   "source": [
    "max_mov_id = other.index.max() + 1\n",
    "\n",
    "meals = pd.read_csv('meals.csv')\n",
    "meals['movement_id'] = range(max_mov_id, max_mov_id + len(meals))\n",
    "#df.to_sql('account_movements', engine, if_exists='append', index=False)"
   ]
  },
  {
   "cell_type": "markdown",
   "metadata": {
    "collapsed": true
   },
   "source": [
    "# CGD CC"
   ]
  },
  {
   "cell_type": "code",
   "execution_count": null,
   "metadata": {
    "collapsed": false,
    "scrolled": false
   },
   "outputs": [],
   "source": [
    "max_mov_id = meals.index.max() + 1\n",
    "\n",
    "tables = []\n",
    "for fl in glob.glob('cgd/cartao*'):\n",
    "    print('processing file ' + str(fl))\n",
    "    with open(fl) as cartfile:\n",
    "        b = BeautifulSoup(''.join(cartfile.readlines()), \"lxml\")\n",
    "\n",
    "        # credits\n",
    "        tbl = b.find(\"table\", { \"id\" : \"detailMOV_CREDDEBDIF_1\" })\n",
    "        if tbl:\n",
    "            df = pd.read_html(tbl.prettify())[0]\n",
    "            df.columns = ['movement_date', 'value_date', 'description', 'a', 'ammount', 'b', 'c']\n",
    "            df.ammount = df.ammount / 100\n",
    "            df['movement_type'] = 'Crédito'\n",
    "            df['account_id'] = 7\n",
    "\n",
    "            tables.append(df[['movement_date', 'value_date', 'description', 'ammount', 'movement_type', 'account_id']])\n",
    "            \n",
    "\n",
    "        # debits\n",
    "        tbl = b.find(\"table\", { \"id\" : \"detailMOV_CREDDEBDIF_0\" })\n",
    "        if tbl:\n",
    "            df = pd.read_html(tbl.prettify())[0]\n",
    "            df.columns = ['movement_date', 'value_date', 'description', 'ammount', 'a', 'b', 'c']\n",
    "            df.ammount = 0 - (df.ammount / 100)\n",
    "            df['movement_type'] = 'Débito'\n",
    "            df['account_id'] = 7\n",
    "\n",
    "            tables.append(df[['movement_date', 'value_date', 'description', 'ammount', 'movement_type', 'account_id']])\n",
    "\n",
    "\n",
    "ccdf = pd.concat(tables)\n",
    "ccdf.movement_date = pd.to_datetime(ccdf.movement_date, format=\"%d-%m-%Y\")\n",
    "ccdf.value_date = pd.to_datetime(ccdf.value_date, format=\"%d-%m-%Y\")\n",
    "ccdf.sort_values(by='movement_date', inplace=True)\n",
    "ccdf.reset_index(inplace=True)\n",
    "ccdf = ccdf[['movement_date', 'value_date', 'description', 'ammount', 'movement_type', 'account_id']]\n",
    "\n",
    "\n",
    "bal_series = []\n",
    "balance = 0\n",
    "for index, row in ccdf.iterrows():\n",
    "    balance += round(row.ammount, 2)\n",
    "    bal_series.append(balance)\n",
    "\n",
    "ccdf['balance'] = pd.Series(bal_series)\n",
    "ccdf['available_balance'] = ccdf.balance\n",
    "\n",
    "ccdf['movement_id'] = range(max_mov_id, max_mov_id + len(ccdf))\n",
    "#df.to_sql('account_movements', engine, if_exists='append', index=False)"
   ]
  },
  {
   "cell_type": "code",
   "execution_count": null,
   "metadata": {
    "collapsed": true
   },
   "outputs": [],
   "source": [
    "df = pd.concat([cgdmovements, tottamov, interest, other, meals, ccdf])\n",
    "\n",
    "df['hash'] = df.apply(lambda x:hashlib.md5('{}|{}|{}|{}|{}|{}|{}|{}'.format(\n",
    "        x['movement_date'], \n",
    "        x['value_date'], \n",
    "        x['description'], \n",
    "        x['ammount'], \n",
    "        x['balance'], \n",
    "        x['available_balance'], \n",
    "        x['movement_type'], \n",
    "        x['account_id']).encode('utf-8')).hexdigest(), axis=1)\n",
    "\n",
    "df.to_sql('account_movements', engine, if_exists='replace', index=False)\n",
    "valdf.to_sql('account_details', engine, if_exists='replace', index=False)"
   ]
  }
 ],
 "metadata": {
  "kernelspec": {
   "display_name": "Python 3",
   "language": "python",
   "name": "python3"
  },
  "language_info": {
   "codemirror_mode": {
    "name": "ipython",
    "version": 3
   },
   "file_extension": ".py",
   "mimetype": "text/x-python",
   "name": "python",
   "nbconvert_exporter": "python",
   "pygments_lexer": "ipython3",
   "version": "3.5.1"
  }
 },
 "nbformat": 4,
 "nbformat_minor": 0
}
