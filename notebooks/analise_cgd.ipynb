{
 "cells": [
  {
   "cell_type": "code",
   "execution_count": null,
   "metadata": {
    "collapsed": false
   },
   "outputs": [],
   "source": [
    "import pandas as pd\n",
    "import seaborn as sns\n",
    "from datetime import date\n",
    "from sqlalchemy import create_engine\n",
    "\n",
    "import os\n",
    "import configparser\n",
    "\n",
    "%matplotlib inline\n",
    "sns.set_context(\"poster\")"
   ]
  },
  {
   "cell_type": "code",
   "execution_count": null,
   "metadata": {
    "collapsed": false
   },
   "outputs": [],
   "source": [
    "config = configparser.ConfigParser()\n",
    "config.read(os.path.join(os.path.expanduser(\"~\"), '.config', 'me.ini'))\n",
    "\n",
    "engine = create_engine(config['db']['url'])\n",
    "\n",
    "# get invested values\n",
    "movements = pd.read_sql('account_movements', engine)\n",
    "invested = movements[movements.description == 'Subscrição Fundos'].ammount.sum()\n",
    "single_inv = invested / 2\n",
    "\n",
    "funds = pd.read_sql('cgd_funds', engine)\n",
    "funds = funds[['date', 'type', 'value']]\n",
    "funds['percentage'] = ((funds.value / single_inv) - 1) * 100\n",
    "\n",
    "daily = funds.pivot_table(index='date', columns='type', values=['value', 'percentage'], aggfunc=sum)\n",
    "daily_total = funds.pivot_table(index='date', values=['value'], aggfunc=sum)\n",
    "daily_total['percentage'] = ((daily_total.value / invested) - 1) * 100"
   ]
  },
  {
   "cell_type": "code",
   "execution_count": null,
   "metadata": {
    "collapsed": false
   },
   "outputs": [],
   "source": [
    "funds.tail(2)"
   ]
  },
  {
   "cell_type": "code",
   "execution_count": null,
   "metadata": {
    "collapsed": false
   },
   "outputs": [],
   "source": [
    "daily.value.plot()"
   ]
  },
  {
   "cell_type": "code",
   "execution_count": null,
   "metadata": {
    "collapsed": false
   },
   "outputs": [],
   "source": [
    "daily.percentage.tail()"
   ]
  },
  {
   "cell_type": "code",
   "execution_count": null,
   "metadata": {
    "collapsed": false
   },
   "outputs": [],
   "source": [
    "daily_total.value.plot()"
   ]
  },
  {
   "cell_type": "code",
   "execution_count": null,
   "metadata": {
    "collapsed": false
   },
   "outputs": [],
   "source": [
    "pd.DataFrame(daily_total.percentage.tail())"
   ]
  },
  {
   "cell_type": "code",
   "execution_count": null,
   "metadata": {
    "collapsed": true
   },
   "outputs": [],
   "source": []
  }
 ],
 "metadata": {
  "kernelspec": {
   "display_name": "Python 3",
   "language": "python",
   "name": "python3"
  },
  "language_info": {
   "codemirror_mode": {
    "name": "ipython",
    "version": 3
   },
   "file_extension": ".py",
   "mimetype": "text/x-python",
   "name": "python",
   "nbconvert_exporter": "python",
   "pygments_lexer": "ipython3",
   "version": "3.5.1"
  }
 },
 "nbformat": 4,
 "nbformat_minor": 0
}
